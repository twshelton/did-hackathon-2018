{
 "cells": [
  {
   "cell_type": "code",
   "execution_count": 1,
   "metadata": {},
   "outputs": [],
   "source": [
    "# import everything \n",
    "from importlib import reload\n",
    "import ecc\n",
    "import helper"
   ]
  },
  {
   "cell_type": "markdown",
   "metadata": {},
   "source": [
    "\n",
    "### Create a testnet address using your own secret key\n",
    "#### Use your phone number twice as a basic sample\n",
    "#### Make sure to set: %env TESTNET_SECRET=123  to a meaningfully large secret\n",
    "\n"
   ]
  },
  {
   "cell_type": "code",
   "execution_count": 1,
   "metadata": {},
   "outputs": [
    {
     "name": "stdout",
     "output_type": "stream",
     "text": [
      "env: TESTNET_SECRET=123\n",
      "miXckrsqnNrDYroEK97dhozJGuebj4ee4L\n"
     ]
    }
   ],
   "source": [
    "from ecc import G\n",
    "import os\n",
    "#phone number twice maybe\n",
    "%env TESTNET_SECRET=123\n",
    "secret = int(os.environ['TESTNET_SECRET'])\n",
    "point = secret*G\n",
    "print(point.address(testnet=True))"
   ]
  },
  {
   "cell_type": "markdown",
   "metadata": {},
   "source": [
    "1. **Find a testnet faucet address to transfer Bitcoin to the above address. Try https://testnet.coinfaucet.eu/en/**\n",
    "2. **Copy the transaction id from the faucet and use that below.**\n",
    "3. **Create a BTCR DID from this address.**"
   ]
  },
  {
   "cell_type": "code",
   "execution_count": 29,
   "metadata": {},
   "outputs": [
    {
     "name": "stdout",
     "output_type": "stream",
     "text": [
      "01000000011afa6e353efd16c9971637dbaad7afffaa6d23a257104bc9e2ff0ab29b488716010000006a473044022069712bec07b67044aee6bdc8c28eb7ced7abb0bec07d78bad2421ba836b23ee402200609abfaa4cb8163f378bedaab93b480b5742ed99ca3f67b5c9513b662e42b40012103df0a618b6b4599ef43dcef41727f5124cd2b47f76dbd5e17093ad46f7f469b99ffffffff0200000000000000001976a914ed03e3b7142101938e79fb1ab7f136f4eeeb326088ac3f805800000000001976a914ed03e3b7142101938e79fb1ab7f136f4eeeb326088ac00000000\n"
     ]
    }
   ],
   "source": [
    "from ecc import PrivateKey\n",
    "from helper import decode_base58, p2pkh_script, SIGHASH_ALL\n",
    "from script import Script\n",
    "from tx import TxIn, TxOut, Tx\n",
    "\n",
    "initial_faucet_transaction = '1687489bb20affe2c94b1057a2236daaffafd7aadb371697c916fd3e356efa1a'\n",
    "\n",
    "secret = int(os.environ['TESTNET_SECRET'])\n",
    "point = secret*G\n",
    "address = point.address(testnet=True)\n",
    "prev_tx = bytes.fromhex(initial_faucet_transaction)\n",
    "prev_index = 1 # FILL THIS IN\n",
    "target_address = address\n",
    "target_amount = 0.00\n",
    "change_address = address\n",
    "priv = PrivateKey(secret=secret)\n",
    "\n",
    "# initialize inputs\n",
    "# create a new tx input with prev_tx, prev_index, blank script_sig and max sequence\n",
    "tx_in = TxIn(\n",
    "            prev_tx=prev_tx,\n",
    "            prev_index=prev_index,\n",
    "            script_sig=b'',\n",
    "            sequence=0xffffffff,\n",
    "        )\n",
    "change_amount = int(tx_in.value()) - 1\n",
    "\n",
    "# initialize outputs\n",
    "tx_outs = []\n",
    "h160 = decode_base58(target_address)\n",
    "tx_outs.append(TxOut(\n",
    "    amount=int(target_amount),\n",
    "    script_pubkey=p2pkh_script(h160),\n",
    "))\n",
    "h160 = decode_base58(change_address)\n",
    "tx_outs.append(TxOut(\n",
    "    amount=int(change_amount),\n",
    "    script_pubkey=p2pkh_script(h160),\n",
    "))\n",
    "\n",
    "# create the transaction\n",
    "tx_obj = Tx(version=1, tx_ins=[tx_in], tx_outs=tx_outs, locktime=0, testnet=True)\n",
    "# now sign the 0th input with the private key using SIGHASH_ALL using sign_input\n",
    "\n",
    "tx_obj.sign_input(0, priv, SIGHASH_ALL)\n",
    "\n",
    "# SANITY CHECK: change address corresponds to private key\n",
    "if priv.point.address(testnet=True) != change_address:\n",
    "    raise RuntimeError('Private Key does not correspond to Change Address, check priv_key and change_address')\n",
    "\n",
    "# SANITY CHECK: output's script_pubkey is the same one as your address\n",
    "if tx_in.script_pubkey(testnet=True).elements[2] != decode_base58(change_address):\n",
    "    raise RuntimeError('Output is not something you can spend with this private key. Check that the prev_tx and prev_index are correct')\n",
    "\n",
    "# SANITY CHECK: fee is reasonable\n",
    "if tx_obj.fee() > 0.05*100000000 or tx_obj.fee() <= 0:\n",
    "    raise RuntimeError('Check that the change amount is reasonable. Fee is {}'.format(tx_obj.fee()))\n",
    "\n",
    "# serialize and hex()\n",
    "print(tx_obj.serialize().hex())\n",
    "\n",
    "#prior run resulted in this transaction.\n",
    "#1687489bb20affe2c94b1057a2236daaffafd7aadb371697c916fd3e356efa1a"
   ]
  },
  {
   "cell_type": "code",
   "execution_count": null,
   "metadata": {},
   "outputs": [],
   "source": []
  }
 ],
 "metadata": {
  "kernelspec": {
   "display_name": "Python 3",
   "language": "python",
   "name": "python3"
  },
  "language_info": {
   "codemirror_mode": {
    "name": "ipython",
    "version": 3
   },
   "file_extension": ".py",
   "mimetype": "text/x-python",
   "name": "python",
   "nbconvert_exporter": "python",
   "pygments_lexer": "ipython3",
   "version": "3.6.5"
  }
 },
 "nbformat": 4,
 "nbformat_minor": 2
}
